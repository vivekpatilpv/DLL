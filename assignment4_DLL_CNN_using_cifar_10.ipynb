{
  "nbformat": 4,
  "nbformat_minor": 0,
  "metadata": {
    "colab": {
      "provenance": [],
      "collapsed_sections": []
    },
    "kernelspec": {
      "name": "python3",
      "display_name": "Python 3"
    },
    "language_info": {
      "name": "python"
    }
  },
  "cells": [
    {
      "cell_type": "code",
      "execution_count": 1,
      "metadata": {
        "id": "NmclQWs9OP24"
      },
      "outputs": [],
      "source": [
        "# Importing the libraries\n",
        "import pandas as pd\n",
        "import numpy as np\n",
        "import tensorflow as tf\n",
        "from tensorflow.keras import models,layers,datasets\n",
        "from tensorflow.keras.layers import Dense,Flatten,Conv2D,MaxPooling2D\n",
        "import matplotlib.pyplot as plt\n",
        "import matplotlib.image as mp"
      ]
    },
    {
      "cell_type": "code",
      "source": [
        "# Load the data and seperates it into train and test data\n",
        "(train_images,train_labels),(test_images,test_labels) = datasets.cifar10.load_data()"
      ],
      "metadata": {
        "colab": {
          "base_uri": "https://localhost:8080/",
          "height": 0
        },
        "id": "pU6D7Nn2PZuy",
        "outputId": "3126eeca-cf0f-4c43-f5d8-67e3576cf116"
      },
      "execution_count": 2,
      "outputs": [
        {
          "output_type": "stream",
          "name": "stdout",
          "text": [
            "Downloading data from https://www.cs.toronto.edu/~kriz/cifar-10-python.tar.gz\n",
            "170500096/170498071 [==============================] - 3s 0us/step\n",
            "170508288/170498071 [==============================] - 3s 0us/step\n"
          ]
        }
      ]
    },
    {
      "cell_type": "code",
      "source": [
        "# size of train and test data\n",
        "print(\"x_train : \",train_images.shape)\n",
        "print(\"y_train : \",train_labels.shape)\n",
        "print(\"x_test : \",test_images.shape)\n",
        "print(\"y_test : \",test_labels.shape)"
      ],
      "metadata": {
        "colab": {
          "base_uri": "https://localhost:8080/",
          "height": 0
        },
        "id": "IKu6n6GUPbMu",
        "outputId": "300b89ff-3384-4c83-91ba-a2ca1c83bf64"
      },
      "execution_count": 3,
      "outputs": [
        {
          "output_type": "stream",
          "name": "stdout",
          "text": [
            "x_train :  (50000, 32, 32, 3)\n",
            "y_train :  (50000, 1)\n",
            "x_test :  (10000, 32, 32, 3)\n",
            "y_test :  (10000, 1)\n"
          ]
        }
      ]
    },
    {
      "cell_type": "code",
      "source": [
        "train_images[42]"
      ],
      "metadata": {
        "colab": {
          "base_uri": "https://localhost:8080/",
          "height": 0
        },
        "id": "svAHSdc12uGc",
        "outputId": "a0fc8215-39bd-4701-f8d2-caa01e124cf4"
      },
      "execution_count": 4,
      "outputs": [
        {
          "output_type": "execute_result",
          "data": {
            "text/plain": [
              "array([[[127, 126, 129],\n",
              "        [148, 144, 144],\n",
              "        [192, 181, 175],\n",
              "        ...,\n",
              "        [112, 102,  98],\n",
              "        [144, 135, 123],\n",
              "        [153, 142, 130]],\n",
              "\n",
              "       [[ 89,  90,  94],\n",
              "        [111, 110, 116],\n",
              "        [151, 141, 137],\n",
              "        ...,\n",
              "        [161, 152, 129],\n",
              "        [166, 158, 132],\n",
              "        [163, 154, 128]],\n",
              "\n",
              "       [[ 98,  94,  94],\n",
              "        [ 94,  94,  99],\n",
              "        [110, 109, 118],\n",
              "        ...,\n",
              "        [173, 159, 132],\n",
              "        [169, 154, 129],\n",
              "        [173, 157, 132]],\n",
              "\n",
              "       ...,\n",
              "\n",
              "       [[156, 152, 115],\n",
              "        [151, 145, 107],\n",
              "        [149, 144, 104],\n",
              "        ...,\n",
              "        [150, 144, 110],\n",
              "        [149, 148, 114],\n",
              "        [142, 143, 104]],\n",
              "\n",
              "       [[163, 158, 122],\n",
              "        [162, 155, 120],\n",
              "        [161, 151, 118],\n",
              "        ...,\n",
              "        [135, 131,  99],\n",
              "        [141, 137, 109],\n",
              "        [138, 134, 103]],\n",
              "\n",
              "       [[160, 152, 122],\n",
              "        [160, 151, 120],\n",
              "        [163, 153, 120],\n",
              "        ...,\n",
              "        [138, 121, 103],\n",
              "        [143, 131, 107],\n",
              "        [151, 135, 117]]], dtype=uint8)"
            ]
          },
          "metadata": {},
          "execution_count": 4
        }
      ]
    },
    {
      "cell_type": "code",
      "source": [
        "plt.imshow(test_images[42])\n",
        "plt.show()"
      ],
      "metadata": {
        "colab": {
          "base_uri": "https://localhost:8080/",
          "height": 266
        },
        "id": "wrqSHTFi25LD",
        "outputId": "6b2ca2b6-b790-49b9-9918-b34c69f109dd"
      },
      "execution_count": 12,
      "outputs": [
        {
          "output_type": "display_data",
          "data": {
            "text/plain": [
              "<Figure size 432x288 with 1 Axes>"
            ],
            "image/png": "[encoded data removed]"
          },
          "metadata": {
            "needs_background": "light"
          }
        }
      ]
    },
    {
      "cell_type": "code",
      "source": [
        "# batch_size = 50\n",
        "# img_width, img_height, img_num_channels = 32, 32, 3\n",
        "# # loss_function = sparse_categorical_crossentropy\n",
        "# no_classes = 10\n",
        "# no_epochs = 100\n",
        "# # optimizer = Adam()\n",
        "# validation_split = 0.2\n",
        "# verbosity = 1"
      ],
      "metadata": {
        "id": "PwjngDilP2f-"
      },
      "execution_count": null,
      "outputs": []
    },
    {
      "cell_type": "code",
      "source": [
        "# input_shape = (img_width, img_height, img_num_channels)"
      ],
      "metadata": {
        "id": "Y1N7DiNTPlQ9"
      },
      "execution_count": null,
      "outputs": []
    },
    {
      "cell_type": "code",
      "source": [
        "# pd.DataFrame(train_images[0])"
      ],
      "metadata": {
        "id": "1poOVGPoLigP"
      },
      "execution_count": null,
      "outputs": []
    },
    {
      "cell_type": "code",
      "source": [
        "train_images = train_images/255\n",
        "test_images = test_images/255"
      ],
      "metadata": {
        "id": "wQs5MZe_QeCr"
      },
      "execution_count": 8,
      "outputs": []
    },
    {
      "cell_type": "code",
      "source": [
        "model = models.Sequential()\n",
        "model.add(Conv2D(32,kernel_size=(3,3),activation='relu',input_shape=(32,32,3)))\n",
        "model.add(MaxPooling2D(pool_size=(2,2)))\n",
        "model.add(Conv2D(64,kernel_size=(3,3),activation='relu'))\n",
        "model.add(MaxPooling2D(pool_size=(2,2)))\n",
        "model.add(Conv2D(128,kernel_size=(3,3),activation='relu'))\n",
        "model.add(MaxPooling2D(pool_size=(2,2)))\n",
        "model.add(Flatten())\n",
        "model.add(Dense(256,activation='relu'))\n",
        "model.add(Dense(128,activation='relu'))\n",
        "model.add(Dense(10,activation='softmax'))"
      ],
      "metadata": {
        "id": "pp653mspQwmS"
      },
      "execution_count": 9,
      "outputs": []
    },
    {
      "cell_type": "code",
      "source": [
        "model.compile(optimizer='adam', loss='sparse_categorical_crossentropy', metrics = ['accuracy'])"
      ],
      "metadata": {
        "id": "fqxw_KY1SsDL"
      },
      "execution_count": 10,
      "outputs": []
    },
    {
      "cell_type": "code",
      "source": [
        "history = model.fit(train_images,train_labels,batch_size=50,epochs=10,verbose=1,validation_split=0.2)"
      ],
      "metadata": {
        "colab": {
          "base_uri": "https://localhost:8080/",
          "height": 0
        },
        "id": "JbgXSrUyS9F5",
        "outputId": "f2549df9-faea-494d-b536-accb9d0333ed"
      },
      "execution_count": 13,
      "outputs": [
        {
          "output_type": "stream",
          "name": "stdout",
          "text": [
            "Epoch 1/10\n",
            "800/800 [==============================] - 68s 85ms/step - loss: 1.2048 - accuracy: 0.5663 - val_loss: 1.1854 - val_accuracy: 0.5737\n",
            "Epoch 2/10\n",
            "800/800 [==============================] - 70s 88ms/step - loss: 1.0343 - accuracy: 0.6360 - val_loss: 1.0490 - val_accuracy: 0.6332\n",
            "Epoch 3/10\n",
            "800/800 [==============================] - 71s 88ms/step - loss: 0.9085 - accuracy: 0.6808 - val_loss: 1.0407 - val_accuracy: 0.6346\n",
            "Epoch 4/10\n",
            "800/800 [==============================] - 63s 79ms/step - loss: 0.8223 - accuracy: 0.7112 - val_loss: 0.9179 - val_accuracy: 0.6764\n",
            "Epoch 5/10\n",
            "800/800 [==============================] - 62s 78ms/step - loss: 0.7409 - accuracy: 0.7388 - val_loss: 0.9169 - val_accuracy: 0.6809\n",
            "Epoch 6/10\n",
            "800/800 [==============================] - 64s 80ms/step - loss: 0.6655 - accuracy: 0.7673 - val_loss: 0.8424 - val_accuracy: 0.7119\n",
            "Epoch 7/10\n",
            "800/800 [==============================] - 63s 79ms/step - loss: 0.6125 - accuracy: 0.7857 - val_loss: 0.8955 - val_accuracy: 0.7054\n",
            "Epoch 8/10\n",
            "800/800 [==============================] - 67s 83ms/step - loss: 0.5536 - accuracy: 0.8042 - val_loss: 0.8799 - val_accuracy: 0.7021\n",
            "Epoch 9/10\n",
            "800/800 [==============================] - 64s 80ms/step - loss: 0.4986 - accuracy: 0.8235 - val_loss: 0.9078 - val_accuracy: 0.7204\n",
            "Epoch 10/10\n",
            "800/800 [==============================] - 66s 82ms/step - loss: 0.4538 - accuracy: 0.8410 - val_loss: 0.9528 - val_accuracy: 0.7086\n"
          ]
        }
      ]
    },
    {
      "cell_type": "code",
      "source": [
        "# Model summary tells about how the model is working\n",
        "# Sicne we have input as 28x28 = 784 hence we have shape as 784\n",
        "model.summary()"
      ],
      "metadata": {
        "colab": {
          "base_uri": "https://localhost:8080/",
          "height": 0
        },
        "id": "MSHJp29rT5F8",
        "outputId": "bcad0e91-7562-44bd-beb6-93981ee3c833"
      },
      "execution_count": 14,
      "outputs": [
        {
          "output_type": "stream",
          "name": "stdout",
          "text": [
            "Model: \"sequential\"\n",
            "_________________________________________________________________\n",
            " Layer (type)                Output Shape              Param #   \n",
            "=================================================================\n",
            " conv2d (Conv2D)             (None, 30, 30, 32)        896       \n",
            "                                                                 \n",
            " max_pooling2d (MaxPooling2D  (None, 15, 15, 32)       0         \n",
            " )                                                               \n",
            "                                                                 \n",
            " conv2d_1 (Conv2D)           (None, 13, 13, 64)        18496     \n",
            "                                                                 \n",
            " max_pooling2d_1 (MaxPooling  (None, 6, 6, 64)         0         \n",
            " 2D)                                                             \n",
            "                                                                 \n",
            " conv2d_2 (Conv2D)           (None, 4, 4, 128)         73856     \n",
            "                                                                 \n",
            " max_pooling2d_2 (MaxPooling  (None, 2, 2, 128)        0         \n",
            " 2D)                                                             \n",
            "                                                                 \n",
            " flatten (Flatten)           (None, 512)               0         \n",
            "                                                                 \n",
            " dense (Dense)               (None, 256)               131328    \n",
            "                                                                 \n",
            " dense_1 (Dense)             (None, 128)               32896     \n",
            "                                                                 \n",
            " dense_2 (Dense)             (None, 10)                1290      \n",
            "                                                                 \n",
            "=================================================================\n",
            "Total params: 258,762\n",
            "Trainable params: 258,762\n",
            "Non-trainable params: 0\n",
            "_________________________________________________________________\n"
          ]
        }
      ]
    },
    {
      "cell_type": "code",
      "source": [
        "# Evaluation function to know the model score/accuracy\n",
        "score = model.evaluate(test_images,test_labels)\n",
        "print(\"Test score : \",score[0])\n",
        "print(\"Test accuracy : \",score[1])"
      ],
      "metadata": {
        "colab": {
          "base_uri": "https://localhost:8080/",
          "height": 0
        },
        "id": "Z8GhtE5ek0jY",
        "outputId": "5e783f90-90ad-45a7-c895-377c6ddf2cea"
      },
      "execution_count": 15,
      "outputs": [
        {
          "output_type": "stream",
          "name": "stdout",
          "text": [
            "313/313 [==============================] - 5s 17ms/step - loss: 0.9711 - accuracy: 0.6998\n",
            "Test score :  0.9710832238197327\n",
            "Test accuracy :  0.6998000144958496\n"
          ]
        }
      ]
    },
    {
      "cell_type": "code",
      "source": [
        "# Saving the model\n",
        "model_name = 'cifar-10_CNN.h5'\n",
        "model.save(model_name, save_format='h5')"
      ],
      "metadata": {
        "id": "IDhZ3eTAk3t1"
      },
      "execution_count": 16,
      "outputs": []
    },
    {
      "cell_type": "code",
      "source": [
        "predict_result = model.predict(test_images[42].reshape(1,32,32,3))\n",
        "# Print the prediction result\n",
        "print(predict_result)\n",
        "# Find the predicted class\n",
        "predict_class = predict_result.argmax()\n",
        "# Find the prediction probability\n",
        "predict_prob = predict_result.max()"
      ],
      "metadata": {
        "colab": {
          "base_uri": "https://localhost:8080/",
          "height": 0
        },
        "id": "0_4oxoeY4PRl",
        "outputId": "6acfdedb-676f-45da-a0d1-c0b44e4d0f07"
      },
      "execution_count": 17,
      "outputs": [
        {
          "output_type": "stream",
          "name": "stdout",
          "text": [
            "[[2.9318553e-05 1.7942104e-06 1.0871204e-04 2.7451621e-02 5.0810329e-04\n",
            "  9.5214880e-01 5.2400776e-07 1.9716751e-02 2.1533431e-07 3.4127181e-05]]\n"
          ]
        }
      ]
    },
    {
      "cell_type": "code",
      "source": [
        "print(f\"Image belongs to class: {predict_class}\\n Prob is: {predict_prob}\")"
      ],
      "metadata": {
        "colab": {
          "base_uri": "https://localhost:8080/",
          "height": 0
        },
        "id": "X7Gup7-G4WP4",
        "outputId": "986be74e-072f-4f07-d10b-de6befbe2198"
      },
      "execution_count": 18,
      "outputs": [
        {
          "output_type": "stream",
          "name": "stdout",
          "text": [
            "Image belongs to class: 5\n",
            " Prob is: 0.9521487951278687\n"
          ]
        }
      ]
    }
  ]
}