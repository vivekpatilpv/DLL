{
 "cells": [
  {
   "cell_type": "markdown",
   "metadata": {},
   "source": [
    "<h3><font style=\"color:red;\">Title:- </font>\n",
    "    Apply transfer learning with pre-trained VGG16 model on assignment 3 and analyze the result\n",
    "    </h3>"
   ]
  },
  {
   "cell_type": "markdown",
   "metadata": {},
   "source": [
    "<h3><font style=\"color:red;\">Implementation Code:</font></h3>\n",
    "Implementation of VGG16 on Custom Dataset (Cat-Dog)"
   ]
  },
  {
   "cell_type": "markdown",
   "metadata": {},
   "source": [
    "<h3><font style=\"color:red;\">Dataset Used:</font></h3>\n",
    "1.Kaggle - Cat VS Dog "
   ]
  },
  {
   "cell_type": "markdown",
   "metadata": {},
   "source": [
    "### Insert all necessary Libarary"
   ]
  },
  {
   "cell_type": "code",
   "execution_count": 1,
   "metadata": {},
   "outputs": [],
   "source": [
    "import pandas as pd\n",
    "import numpy as np\n",
    "import matplotlib.pyplot as plt\n",
    "import seaborn as sns\n",
    "import warnings\n",
    "warnings.filterwarnings('ignore')"
   ]
  },
  {
   "cell_type": "code",
   "execution_count": 2,
   "metadata": {},
   "outputs": [],
   "source": [
    "import os\n",
    "import random\n",
    "import zipfile\n",
    "from sklearn.model_selection import train_test_split\n",
    "from sklearn.metrics import ConfusionMatrixDisplay, confusion_matrix, classification_report \n",
    "import tensorflow as tf\n",
    "from tensorflow.keras.utils import load_img\n",
    "from keras.preprocessing.image import ImageDataGenerator\n",
    "from keras.models import Sequential, Model\n",
    "from keras.layers import Conv2D, MaxPool2D, Flatten, Dense, GlobalAveragePooling2D, Dropout, BatchNormalization, Input\n",
    "from keras.callbacks import ReduceLROnPlateau, EarlyStopping, ModelCheckpoint\n",
    "from keras.applications.vgg16 import VGG16, preprocess_input"
   ]
  },
  {
   "cell_type": "code",
   "execution_count": 3,
   "metadata": {},
   "outputs": [],
   "source": [
    "train_dir = r\"D:\\DataSets\\Cat_and_Dog\\training_set\"\n",
    "test_dir = r\"D:\\DataSets\\Cat_and_Dog\\test_set\""
   ]
  },
  {
   "cell_type": "markdown",
   "metadata": {},
   "source": [
    "<a id=\"section-four1\"></a>\n",
    "\n",
    "## Image Augmentation"
   ]
  },
  {
   "cell_type": "code",
   "execution_count": 4,
   "metadata": {},
   "outputs": [],
   "source": [
    "train_datagen = ImageDataGenerator(\n",
    "    rotation_range = 15, \n",
    "    validation_split=0.2,\n",
    "    horizontal_flip = True,\n",
    "    preprocessing_function = preprocess_input)\n",
    "\n",
    "test_datagen = ImageDataGenerator(preprocessing_function = preprocess_input)"
   ]
  },
  {
   "cell_type": "code",
   "execution_count": 6,
   "metadata": {},
   "outputs": [
    {
     "name": "stdout",
     "output_type": "stream",
     "text": [
      "Found 6400 images belonging to 2 classes.\n",
      "Found 1600 images belonging to 2 classes.\n",
      "Found 2000 images belonging to 2 classes.\n"
     ]
    }
   ],
   "source": [
    "train_generator = train_datagen.flow_from_directory(train_dir,class_mode = \"categorical\",target_size = (224, 224),\n",
    "                                                    batch_size = 64,seed = 666,subset='training')\n",
    "Val_generator = train_datagen.flow_from_directory(train_dir,class_mode = \"categorical\",target_size = (224, 224),\n",
    "                                                    batch_size = 64,seed = 666,subset='validation')\n",
    "test_generator = test_datagen.flow_from_directory(test_dir,class_mode = \"categorical\",target_size = (224, 224),\n",
    "                                                    batch_size = 64,seed = 666,shuffle = False)"
   ]
  },
  {
   "cell_type": "markdown",
   "metadata": {},
   "source": [
    "<a id=\"section-five\"></a>\n",
    "\n",
    "## Pre-Trained VGG-16 Model & Transfer Learning Architecture"
   ]
  },
  {
   "cell_type": "markdown",
   "metadata": {},
   "source": [
    "\n",
    "![](https://miro.medium.com/max/2000/1*_vGloND6yyxFeFH5UyCDVg.png)\n",
    "\n",
    "<!-- > *https://towardsdatascience.com/illustrated-10-cnn-architectures-95d78ace614d -->"
   ]
  },
  {
   "cell_type": "markdown",
   "metadata": {},
   "source": [
    "VGG-16 has nearly 138M parameters. It is more than EfficientNet, ResNext, etc.\n",
    "\n",
    "It also has 75% accuracy on ImageNet data, that is a poor result wrt other architectures."
   ]
  },
  {
   "cell_type": "markdown",
   "metadata": {},
   "source": [
    "<a id=\"section-five1\"></a>\n",
    "## Build Model"
   ]
  },
  {
   "cell_type": "code",
   "execution_count": 7,
   "metadata": {
    "collapsed": true
   },
   "outputs": [
    {
     "name": "stdout",
     "output_type": "stream",
     "text": [
      "Model: \"vgg16\"\n",
      "_________________________________________________________________\n",
      " Layer (type)                Output Shape              Param #   \n",
      "=================================================================\n",
      " input_1 (InputLayer)        [(None, 48, 48, 3)]       0         \n",
      "                                                                 \n",
      " block1_conv1 (Conv2D)       (None, 48, 48, 64)        1792      \n",
      "                                                                 \n",
      " block1_conv2 (Conv2D)       (None, 48, 48, 64)        36928     \n",
      "                                                                 \n",
      " block1_pool (MaxPooling2D)  (None, 24, 24, 64)        0         \n",
      "                                                                 \n",
      " block2_conv1 (Conv2D)       (None, 24, 24, 128)       73856     \n",
      "                                                                 \n",
      " block2_conv2 (Conv2D)       (None, 24, 24, 128)       147584    \n",
      "                                                                 \n",
      " block2_pool (MaxPooling2D)  (None, 12, 12, 128)       0         \n",
      "                                                                 \n",
      " block3_conv1 (Conv2D)       (None, 12, 12, 256)       295168    \n",
      "                                                                 \n",
      " block3_conv2 (Conv2D)       (None, 12, 12, 256)       590080    \n",
      "                                                                 \n",
      " block3_conv3 (Conv2D)       (None, 12, 12, 256)       590080    \n",
      "                                                                 \n",
      " block3_pool (MaxPooling2D)  (None, 6, 6, 256)         0         \n",
      "                                                                 \n",
      " block4_conv1 (Conv2D)       (None, 6, 6, 512)         1180160   \n",
      "                                                                 \n",
      " block4_conv2 (Conv2D)       (None, 6, 6, 512)         2359808   \n",
      "                                                                 \n",
      " block4_conv3 (Conv2D)       (None, 6, 6, 512)         2359808   \n",
      "                                                                 \n",
      " block4_pool (MaxPooling2D)  (None, 3, 3, 512)         0         \n",
      "                                                                 \n",
      " block5_conv1 (Conv2D)       (None, 3, 3, 512)         2359808   \n",
      "                                                                 \n",
      " block5_conv2 (Conv2D)       (None, 3, 3, 512)         2359808   \n",
      "                                                                 \n",
      " block5_conv3 (Conv2D)       (None, 3, 3, 512)         2359808   \n",
      "                                                                 \n",
      " block5_pool (MaxPooling2D)  (None, 1, 1, 512)         0         \n",
      "                                                                 \n",
      "=================================================================\n",
      "Total params: 14,714,688\n",
      "Trainable params: 0\n",
      "Non-trainable params: 14,714,688\n",
      "_________________________________________________________________\n"
     ]
    }
   ],
   "source": [
    "base_model = VGG16(\n",
    "    weights = \"imagenet\", \n",
    "    input_shape=(48, 48, 3),\n",
    "    include_top = False\n",
    ")\n",
    "for layers in base_model.layers:\n",
    "    layers.trainable = False\n",
    "base_model.summary()"
   ]
  },
  {
   "cell_type": "code",
   "execution_count": 8,
   "metadata": {
    "_kg_hide-output": true,
    "execution": {
     "iopub.execute_input": "2021-11-17T15:21:05.671915Z",
     "iopub.status.busy": "2021-11-17T15:21:05.671591Z",
     "iopub.status.idle": "2021-11-17T15:21:08.828658Z",
     "shell.execute_reply": "2021-11-17T15:21:08.827944Z",
     "shell.execute_reply.started": "2021-11-17T15:21:05.671878Z"
    }
   },
   "outputs": [],
   "source": [
    "def vgg16_pretrained():\n",
    "     model = Sequential(\n",
    "        [\n",
    "            base_model,\n",
    "             GlobalAveragePooling2D(),\n",
    "            Dense(100, activation = \"relu\"),\n",
    "            Dropout(0.4),\n",
    "            Dense(64, activation = \"relu\"),\n",
    "            Dense(2, activation = \"softmax\")\n",
    "        ]\n",
    "    )\n",
    "    return model\n",
    "tf.keras.backend.clear_session()"
   ]
  },
  {
   "cell_type": "code",
   "execution_count": 9,
   "metadata": {
    "_kg_hide-input": true,
    "execution": {
     "iopub.execute_input": "2021-11-17T15:21:08.830050Z",
     "iopub.status.busy": "2021-11-17T15:21:08.829811Z",
     "iopub.status.idle": "2021-11-17T15:21:08.921724Z",
     "shell.execute_reply": "2021-11-17T15:21:08.921061Z",
     "shell.execute_reply.started": "2021-11-17T15:21:08.830018Z"
    }
   },
   "outputs": [
    {
     "name": "stdout",
     "output_type": "stream",
     "text": [
      "Model: \"sequential\"\n",
      "_________________________________________________________________\n",
      " Layer (type)                Output Shape              Param #   \n",
      "=================================================================\n",
      " vgg16 (Functional)          (None, 1, 1, 512)         14714688  \n",
      "                                                                 \n",
      " global_average_pooling2d (G  (None, 512)              0         \n",
      " lobalAveragePooling2D)                                          \n",
      "                                                                 \n",
      " dense (Dense)               (None, 100)               51300     \n",
      "                                                                 \n",
      " dropout (Dropout)           (None, 100)               0         \n",
      "                                                                 \n",
      " dense_1 (Dense)             (None, 64)                6464      \n",
      "                                                                 \n",
      " dense_2 (Dense)             (None, 2)                 130       \n",
      "                                                                 \n",
      "=================================================================\n",
      "Total params: 14,772,582\n",
      "Trainable params: 57,894\n",
      "Non-trainable params: 14,714,688\n",
      "_________________________________________________________________\n"
     ]
    }
   ],
   "source": [
    "model = vgg16_pretrained()\n",
    "\n",
    "model.compile(loss = \"categorical_crossentropy\", optimizer = \"adam\", metrics = \"accuracy\")\n",
    "\n",
    "model.summary()"
   ]
  },
  {
   "cell_type": "code",
   "execution_count": 10,
   "metadata": {
    "execution": {
     "iopub.execute_input": "2021-11-17T15:21:08.923888Z",
     "iopub.status.busy": "2021-11-17T15:21:08.922886Z",
     "iopub.status.idle": "2021-11-17T15:21:08.929734Z",
     "shell.execute_reply": "2021-11-17T15:21:08.928998Z",
     "shell.execute_reply.started": "2021-11-17T15:21:08.923849Z"
    }
   },
   "outputs": [],
   "source": [
    "reduce_lr = ReduceLROnPlateau(\n",
    "    monitor = \"val_accuracy\", \n",
    "    patience = 2,\n",
    "    verbose = 1, \n",
    "    factor = 0.5, \n",
    "    min_lr = 0.000000001)\n",
    "\n",
    "early_stopping = EarlyStopping(\n",
    "    monitor = \"val_accuracy\",\n",
    "    patience = 5,\n",
    "    verbose = 1,\n",
    "    mode = \"max\")\n",
    "\n",
    "checkpoint = ModelCheckpoint(\n",
    "    monitor = \"val_accuracy\",\n",
    "    filepath = \"catdog_vgg16_.{epoch:02d}-{val_accuracy:.6f}.hdf5\",\n",
    "    verbose = 1,\n",
    "    save_best_only = True, \n",
    "    save_weights_only = True)"
   ]
  },
  {
   "cell_type": "code",
   "execution_count": 14,
   "metadata": {
    "_kg_hide-output": true,
    "execution": {
     "iopub.execute_input": "2021-11-17T15:21:08.931390Z",
     "iopub.status.busy": "2021-11-17T15:21:08.930722Z",
     "iopub.status.idle": "2021-11-17T16:09:46.616780Z",
     "shell.execute_reply": "2021-11-17T16:09:46.616004Z",
     "shell.execute_reply.started": "2021-11-17T15:21:08.931352Z"
    }
   },
   "outputs": [
    {
     "name": "stdout",
     "output_type": "stream",
     "text": [
      "Epoch 1/10\n",
      "100/100 [==============================] - ETA: 0s - loss: 0.2867 - accuracy: 0.9202 \n",
      "Epoch 1: val_accuracy improved from -inf to 0.97875, saving model to catdog_vgg16_.01-0.978750.hdf5\n",
      "100/100 [==============================] - 1659s 17s/step - loss: 0.2867 - accuracy: 0.9202 - val_loss: 0.0580 - val_accuracy: 0.9787 - lr: 0.0010\n",
      "Epoch 2/10\n",
      "100/100 [==============================] - ETA: 0s - loss: 0.0921 - accuracy: 0.9663 \n",
      "Epoch 2: val_accuracy did not improve from 0.97875\n",
      "100/100 [==============================] - 1681s 17s/step - loss: 0.0921 - accuracy: 0.9663 - val_loss: 0.0745 - val_accuracy: 0.9744 - lr: 0.0010\n",
      "Epoch 3/10\n",
      "100/100 [==============================] - ETA: 0s - loss: 0.0765 - accuracy: 0.9720 \n",
      "Epoch 3: ReduceLROnPlateau reducing learning rate to 0.0005000000237487257.\n",
      "\n",
      "Epoch 3: val_accuracy did not improve from 0.97875\n",
      "100/100 [==============================] - 1687s 17s/step - loss: 0.0765 - accuracy: 0.9720 - val_loss: 0.0586 - val_accuracy: 0.9756 - lr: 0.0010\n",
      "Epoch 4/10\n",
      "100/100 [==============================] - ETA: 0s - loss: 0.0611 - accuracy: 0.9781 \n",
      "Epoch 4: val_accuracy did not improve from 0.97875\n",
      "100/100 [==============================] - 1680s 17s/step - loss: 0.0611 - accuracy: 0.9781 - val_loss: 0.0556 - val_accuracy: 0.9781 - lr: 5.0000e-04\n",
      "Epoch 5/10\n",
      "100/100 [==============================] - ETA: 0s - loss: 0.0493 - accuracy: 0.9811 \n",
      "Epoch 5: ReduceLROnPlateau reducing learning rate to 0.0002500000118743628.\n",
      "\n",
      "Epoch 5: val_accuracy did not improve from 0.97875\n",
      "100/100 [==============================] - 1702s 17s/step - loss: 0.0493 - accuracy: 0.9811 - val_loss: 0.0569 - val_accuracy: 0.9787 - lr: 5.0000e-04\n",
      "Epoch 6/10\n",
      "100/100 [==============================] - ETA: 0s - loss: 0.0464 - accuracy: 0.9823 \n",
      "Epoch 6: val_accuracy improved from 0.97875 to 0.98000, saving model to catdog_vgg16_.06-0.980000.hdf5\n",
      "100/100 [==============================] - 1705s 17s/step - loss: 0.0464 - accuracy: 0.9823 - val_loss: 0.0616 - val_accuracy: 0.9800 - lr: 2.5000e-04\n",
      "Epoch 7/10\n",
      "100/100 [==============================] - ETA: 0s - loss: 0.0389 - accuracy: 0.9856 \n",
      "Epoch 7: val_accuracy improved from 0.98000 to 0.98312, saving model to catdog_vgg16_.07-0.983125.hdf5\n",
      "100/100 [==============================] - 1697s 17s/step - loss: 0.0389 - accuracy: 0.9856 - val_loss: 0.0536 - val_accuracy: 0.9831 - lr: 2.5000e-04\n",
      "Epoch 8/10\n",
      "100/100 [==============================] - ETA: 0s - loss: 0.0378 - accuracy: 0.9867 \n",
      "Epoch 8: val_accuracy did not improve from 0.98312\n",
      "100/100 [==============================] - 1697s 17s/step - loss: 0.0378 - accuracy: 0.9867 - val_loss: 0.0568 - val_accuracy: 0.9800 - lr: 2.5000e-04\n",
      "Epoch 9/10\n",
      "100/100 [==============================] - ETA: 0s - loss: 0.0369 - accuracy: 0.9869 \n",
      "Epoch 9: ReduceLROnPlateau reducing learning rate to 0.0001250000059371814.\n",
      "\n",
      "Epoch 9: val_accuracy did not improve from 0.98312\n",
      "100/100 [==============================] - 1683s 17s/step - loss: 0.0369 - accuracy: 0.9869 - val_loss: 0.0581 - val_accuracy: 0.9825 - lr: 2.5000e-04\n",
      "Epoch 10/10\n",
      "100/100 [==============================] - ETA: 0s - loss: 0.0314 - accuracy: 0.9894 \n",
      "Epoch 10: val_accuracy did not improve from 0.98312\n",
      "100/100 [==============================] - 1669s 17s/step - loss: 0.0314 - accuracy: 0.9894 - val_loss: 0.0589 - val_accuracy: 0.9794 - lr: 1.2500e-04\n"
     ]
    }
   ],
   "source": [
    "history = model.fit(train_generator,epochs = 10,validation_data = Val_generator,validation_steps = 1600 // 64,\n",
    "    steps_per_epoch = 6400 // 64,callbacks = [reduce_lr, early_stopping, checkpoint])"
   ]
  },
  {
   "cell_type": "markdown",
   "metadata": {},
   "source": [
    "<a id=\"section-six\"></a>\n",
    "\n",
    "# 6) Interpreting Results and Error Analysis"
   ]
  },
  {
   "cell_type": "markdown",
   "metadata": {},
   "source": [
    "<a id=\"section-six1\"></a>\n",
    "\n",
    "## Learning Curve "
   ]
  },
  {
   "cell_type": "code",
   "execution_count": 16,
   "metadata": {
    "_kg_hide-input": true,
    "execution": {
     "iopub.execute_input": "2021-11-17T16:09:46.769316Z",
     "iopub.status.busy": "2021-11-17T16:09:46.769043Z",
     "iopub.status.idle": "2021-11-17T16:09:47.158315Z",
     "shell.execute_reply": "2021-11-17T16:09:47.157589Z",
     "shell.execute_reply.started": "2021-11-17T16:09:46.769282Z"
    }
   },
   "outputs": [
    {
     "data": {
      "image/png": "[encoded data removed]",
      "text/plain": [
       "<Figure size 864x288 with 2 Axes>"
      ]
     },
     "metadata": {
      "needs_background": "light"
     },
     "output_type": "display_data"
    }
   ],
   "source": [
    "fig, axes = plt.subplots(1, 2, figsize = (12, 4))\n",
    "\n",
    "sns.lineplot(x = range(len(history.history[\"loss\"])), y = history.history[\"loss\"], ax = axes[0], label = \"Training Loss\")\n",
    "sns.lineplot(x = range(len(history.history[\"loss\"])), y = history.history[\"val_loss\"], ax = axes[0], label = \"Validation Loss\")\n",
    "\n",
    "sns.lineplot(x = range(len(history.history[\"accuracy\"])), y = history.history[\"accuracy\"], ax = axes[1], label = \"Training Accuracy\")\n",
    "sns.lineplot(x = range(len(history.history[\"accuracy\"])), y = history.history[\"val_accuracy\"], ax = axes[1], label = \"Validation Accuracy\")\n",
    "axes[0].set_title(\"Loss\"); axes[1].set_title(\"Accuracy\")\n",
    "\n",
    "sns.despine()\n",
    "plt.show()"
   ]
  },
  {
   "cell_type": "markdown",
   "metadata": {},
   "source": [
    "<a id=\"section-conc\"></a>\n",
    "# Conclusion"
   ]
  },
  {
   "cell_type": "markdown",
   "metadata": {},
   "source": [
    "VGG16 Pre-Train Model is Implemented on Cat and Dog data set with 97% of accuracy and 5% of loss"
   ]
  },
  {
   "cell_type": "code",
   "execution_count": null,
   "metadata": {},
   "outputs": [],
   "source": []
  }
 ],
 "metadata": {
  "kernelspec": {
   "display_name": "Python 3 (ipykernel)",
   "language": "python",
   "name": "python3"
  },
  "language_info": {
   "codemirror_mode": {
    "name": "ipython",
    "version": 3
   },
   "file_extension": ".py",
   "mimetype": "text/x-python",
   "name": "python",
   "nbconvert_exporter": "python",
   "pygments_lexer": "ipython3",
   "version": "3.9.12"
  }
 },
 "nbformat": 4,
 "nbformat_minor": 4
}
